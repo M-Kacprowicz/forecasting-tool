{
 "cells": [
  {
   "cell_type": "code",
   "execution_count": 1,
   "id": "fb3e7c4d-f015-4e11-8ff1-610e8f8bab33",
   "metadata": {
    "tags": []
   },
   "outputs": [],
   "source": [
    "import pmdarima as pm\n",
    "from pmdarima.arima import auto_arima"
   ]
  },
  {
   "cell_type": "code",
   "execution_count": null,
   "id": "83dcd199-c527-48bc-be15-d9249a3ea056",
   "metadata": {},
   "outputs": [],
   "source": [
    "data = [...]  # lista dat\n",
    "sales = [...]  # lista wartości sprzedaży\n",
    "\n",
    "model = auto_arima(train_data, seasonal=True, m=12)\n",
    "\n",
    "# Wykonaj prognozę na zestawie testowym\n",
    "forecast = model.predict(len(test_data))\n",
    "\n",
    "# Wydrukuj wyniki prognozy\n",
    "print(forecast)\n",
    "\n",
    "# Możesz również wypisać podsumowanie modelu\n",
    "print(model.summary())\n"
   ]
  },
  {
   "cell_type": "code",
   "execution_count": null,
   "id": "f643c726-9b5e-43ef-a0f1-0833bb8864ea",
   "metadata": {},
   "outputs": [],
   "source": [
    "model = auto_arima(train_data, seasonal = True)"
   ]
  }
 ],
 "metadata": {
  "kernelspec": {
   "display_name": "Python 3 (ipykernel)",
   "language": "python",
   "name": "python3"
  },
  "language_info": {
   "codemirror_mode": {
    "name": "ipython",
    "version": 3
   },
   "file_extension": ".py",
   "mimetype": "text/x-python",
   "name": "python",
   "nbconvert_exporter": "python",
   "pygments_lexer": "ipython3",
   "version": "3.9.13"
  }
 },
 "nbformat": 4,
 "nbformat_minor": 5
}
